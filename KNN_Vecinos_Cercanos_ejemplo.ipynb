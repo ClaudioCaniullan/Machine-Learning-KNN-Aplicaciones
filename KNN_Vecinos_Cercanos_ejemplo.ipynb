{
  "cells": [
    {
      "cell_type": "markdown",
      "metadata": {
        "id": "view-in-github",
        "colab_type": "text"
      },
      "source": [
        "<a href=\"https://colab.research.google.com/github/ClaudioCaniullan/Machine-Learning-KNN-Aplicaciones/blob/main/KNN_Vecinos_Cercanos_ejemplo.ipynb\" target=\"_parent\"><img src=\"https://colab.research.google.com/assets/colab-badge.svg\" alt=\"Open In Colab\"/></a>"
      ]
    },
    {
      "cell_type": "markdown",
      "metadata": {
        "id": "u3t9Ca4HUJW7"
      },
      "source": [
        "**¿Qué librerías necesitamos?**\n",
        "\n",
        "    -Numpy\n",
        "    -Matplotlib\n",
        "    -Pandas\n",
        "    -SKLEARN\n",
        "        -sklearn.neighbors import KNeighborsClassifier\n",
        "        -sklearn.preprocessing import StandardScaler\n",
        "        -sklearn.metrics import confusion_matrix\n",
        "    "
      ]
    },
    {
      "cell_type": "markdown",
      "metadata": {
        "id": "R04u297ZUJXH"
      },
      "source": [
        "\n",
        "\n",
        "Podemos resolver problemas de Clasificación y Regresión"
      ]
    },
    {
      "cell_type": "markdown",
      "metadata": {
        "id": "sl9Yu-KtUJXI"
      },
      "source": [
        "**class sklearn.neighbors.KNeighborsRegressor**(n_neighbors=5, *, weights='uniform', algorithm='auto', leaf_size=30, p=2, metric='minkowski', metric_params=None, n_jobs=None, **kwargs)\n",
        "\n",
        "**class sklearn.neighbors.KNeighborsClassifier**(n_neighbors=5, , weights='uniform', algorithm='auto', leaf_size=30, p=2, metric='minkowski', metric_params=None, n_jobs=None, *kwargs)\n",
        "\n",
        "**n_neighbors** int, predeterminado = 5 Número de vecinos que se utilizarán de forma predeterminada para las consultas de vecinos.\n",
        "\n",
        "**weights** {\"uniforme\", \"distancia\"} o invocables, predeterminado = \"uniforme\" función de peso utilizada en la predicción. Valores posibles:\n",
        "\n",
        "    *\"Uniforme\": pesos uniformes. Todos los puntos de cada vecindario se ponderan por igual.\n",
        "\n",
        "    *\"Distance\": puntos de peso por la inversa de su distancia. en este caso, los vecinos más cercanos de un punto de consulta tendrán una mayor influencia que los vecinos más alejados.\n",
        "\n",
        "[callable] una función definida por el usuario que acepta una matriz de distancias y devuelve una matriz de la misma forma que contiene los pesos.\n",
        "\n",
        "**algoritmo** {‘auto’, ‘ball_tree’, ‘kd_tree’, ‘brute’}, predeterminado = ’auto’ Algoritmo utilizado para calcular los vecinos más cercanos:\n",
        "\n",
        "    *\"Ball_tree\" utilizará BallTree\n",
        "\n",
        "    *\"Kd_tree\" utilizará KDTree\n",
        "\n",
        "    *\"Brute\" utilizará una búsqueda de fuerza bruta.\n",
        "\n",
        "    *\"Auto\" intentará decidir el algoritmo más apropiado en función de los valores pasados ​​para ajustar el método.\n",
        "\n",
        "Nota: el ajuste en una entrada escasa anulará la configuración de este parámetro, utilizando la fuerza bruta.\n",
        "\n",
        "**leaf_size** int, predeterminado = 30\n",
        "\n",
        "El tamaño de la hoja pasó a BallTree o KDTree. Esto puede afectar la velocidad de construcción y consulta, así como la memoria requerida para almacenar el árbol. El valor óptimo depende de la naturaleza del problema.\n",
        "\n",
        "**P**  predeterminado = 2 Parámetro de potencia para la métrica de Minkowski. Cuando p = 1, esto es equivalente a usar manhattan_distance (l1) y euclidean_distance (l2) para p = 2. Para p arbitrario, se usa minkowski_distance (l_p).\n",
        "\n",
        "**metric** str , predeterminado = \"minkowski\" la métrica de distancia que se utilizará para el árbol. La métrica predeterminada es minkowski y con p = 2 es equivalente a la métrica euclidiana estándar. \n",
        "\n",
        "![image.png](attachment:image.png)\n",
        "\n",
        "**metric_params** predeterminado = None Argumentos de palabras clave adicionales para la función métrica.\n",
        "\n",
        "**n_jobs** int, predeterminado = None El número de trabajos paralelos que se ejecutarán para la búsqueda de vecinos. Ninguno significa 1 a menos que esté en un contexto joblib.parallel_backend. -1 significa usar todos los procesadores. "
      ]
    },
    {
      "cell_type": "code",
      "execution_count": 4,
      "metadata": {
        "id": "u_BHeK0dUJXL"
      },
      "outputs": [],
      "source": [
        "# Importamos librerías\n",
        "import numpy as np\n",
        "import matplotlib.pyplot as plt\n",
        "import pandas as pd"
      ]
    },
    {
      "cell_type": "code",
      "execution_count": 5,
      "metadata": {
        "id": "zIG-g13SUJXO"
      },
      "outputs": [],
      "source": [
        "#Este archivo tiene información de usuarios que compran o no compran un determinado producto\n",
        "# Importamos el dataset\n",
        "dataset = pd.read_csv('Social_Network_Ads.csv')\n",
        "X = dataset.iloc[:, [2, 3]].values\n",
        "y = dataset.iloc[:, 4].values"
      ]
    },
    {
      "cell_type": "code",
      "execution_count": 6,
      "metadata": {
        "colab": {
          "base_uri": "https://localhost:8080/",
          "height": 677
        },
        "id": "gBrgWMfsUJXP",
        "outputId": "aa796d21-70cb-460b-96c9-45e5575e4f92"
      },
      "outputs": [
        {
          "output_type": "execute_result",
          "data": {
            "text/html": [
              "<div>\n",
              "<style scoped>\n",
              "    .dataframe tbody tr th:only-of-type {\n",
              "        vertical-align: middle;\n",
              "    }\n",
              "\n",
              "    .dataframe tbody tr th {\n",
              "        vertical-align: top;\n",
              "    }\n",
              "\n",
              "    .dataframe thead th {\n",
              "        text-align: right;\n",
              "    }\n",
              "</style>\n",
              "<table border=\"1\" class=\"dataframe\">\n",
              "  <thead>\n",
              "    <tr style=\"text-align: right;\">\n",
              "      <th></th>\n",
              "      <th>User ID</th>\n",
              "      <th>Gender</th>\n",
              "      <th>Age</th>\n",
              "      <th>EstimatedSalary</th>\n",
              "      <th>Purchased</th>\n",
              "    </tr>\n",
              "  </thead>\n",
              "  <tbody>\n",
              "    <tr>\n",
              "      <th>0</th>\n",
              "      <td>15624510</td>\n",
              "      <td>Male</td>\n",
              "      <td>19</td>\n",
              "      <td>19000</td>\n",
              "      <td>0</td>\n",
              "    </tr>\n",
              "    <tr>\n",
              "      <th>1</th>\n",
              "      <td>15810944</td>\n",
              "      <td>Male</td>\n",
              "      <td>35</td>\n",
              "      <td>20000</td>\n",
              "      <td>0</td>\n",
              "    </tr>\n",
              "    <tr>\n",
              "      <th>2</th>\n",
              "      <td>15668575</td>\n",
              "      <td>Female</td>\n",
              "      <td>26</td>\n",
              "      <td>43000</td>\n",
              "      <td>0</td>\n",
              "    </tr>\n",
              "    <tr>\n",
              "      <th>3</th>\n",
              "      <td>15603246</td>\n",
              "      <td>Female</td>\n",
              "      <td>27</td>\n",
              "      <td>57000</td>\n",
              "      <td>0</td>\n",
              "    </tr>\n",
              "    <tr>\n",
              "      <th>4</th>\n",
              "      <td>15804002</td>\n",
              "      <td>Male</td>\n",
              "      <td>19</td>\n",
              "      <td>76000</td>\n",
              "      <td>0</td>\n",
              "    </tr>\n",
              "    <tr>\n",
              "      <th>5</th>\n",
              "      <td>15728773</td>\n",
              "      <td>Male</td>\n",
              "      <td>27</td>\n",
              "      <td>58000</td>\n",
              "      <td>0</td>\n",
              "    </tr>\n",
              "    <tr>\n",
              "      <th>6</th>\n",
              "      <td>15598044</td>\n",
              "      <td>Female</td>\n",
              "      <td>27</td>\n",
              "      <td>84000</td>\n",
              "      <td>0</td>\n",
              "    </tr>\n",
              "    <tr>\n",
              "      <th>7</th>\n",
              "      <td>15694829</td>\n",
              "      <td>Female</td>\n",
              "      <td>32</td>\n",
              "      <td>150000</td>\n",
              "      <td>1</td>\n",
              "    </tr>\n",
              "    <tr>\n",
              "      <th>8</th>\n",
              "      <td>15600575</td>\n",
              "      <td>Male</td>\n",
              "      <td>25</td>\n",
              "      <td>33000</td>\n",
              "      <td>0</td>\n",
              "    </tr>\n",
              "    <tr>\n",
              "      <th>9</th>\n",
              "      <td>15727311</td>\n",
              "      <td>Female</td>\n",
              "      <td>35</td>\n",
              "      <td>65000</td>\n",
              "      <td>0</td>\n",
              "    </tr>\n",
              "    <tr>\n",
              "      <th>10</th>\n",
              "      <td>15570769</td>\n",
              "      <td>Female</td>\n",
              "      <td>26</td>\n",
              "      <td>80000</td>\n",
              "      <td>0</td>\n",
              "    </tr>\n",
              "    <tr>\n",
              "      <th>11</th>\n",
              "      <td>15606274</td>\n",
              "      <td>Female</td>\n",
              "      <td>26</td>\n",
              "      <td>52000</td>\n",
              "      <td>0</td>\n",
              "    </tr>\n",
              "    <tr>\n",
              "      <th>12</th>\n",
              "      <td>15746139</td>\n",
              "      <td>Male</td>\n",
              "      <td>20</td>\n",
              "      <td>86000</td>\n",
              "      <td>0</td>\n",
              "    </tr>\n",
              "    <tr>\n",
              "      <th>13</th>\n",
              "      <td>15704987</td>\n",
              "      <td>Male</td>\n",
              "      <td>32</td>\n",
              "      <td>18000</td>\n",
              "      <td>0</td>\n",
              "    </tr>\n",
              "    <tr>\n",
              "      <th>14</th>\n",
              "      <td>15628972</td>\n",
              "      <td>Male</td>\n",
              "      <td>18</td>\n",
              "      <td>82000</td>\n",
              "      <td>0</td>\n",
              "    </tr>\n",
              "    <tr>\n",
              "      <th>15</th>\n",
              "      <td>15697686</td>\n",
              "      <td>Male</td>\n",
              "      <td>29</td>\n",
              "      <td>80000</td>\n",
              "      <td>0</td>\n",
              "    </tr>\n",
              "    <tr>\n",
              "      <th>16</th>\n",
              "      <td>15733883</td>\n",
              "      <td>Male</td>\n",
              "      <td>47</td>\n",
              "      <td>25000</td>\n",
              "      <td>1</td>\n",
              "    </tr>\n",
              "    <tr>\n",
              "      <th>17</th>\n",
              "      <td>15617482</td>\n",
              "      <td>Male</td>\n",
              "      <td>45</td>\n",
              "      <td>26000</td>\n",
              "      <td>1</td>\n",
              "    </tr>\n",
              "    <tr>\n",
              "      <th>18</th>\n",
              "      <td>15704583</td>\n",
              "      <td>Male</td>\n",
              "      <td>46</td>\n",
              "      <td>28000</td>\n",
              "      <td>1</td>\n",
              "    </tr>\n",
              "    <tr>\n",
              "      <th>19</th>\n",
              "      <td>15621083</td>\n",
              "      <td>Female</td>\n",
              "      <td>48</td>\n",
              "      <td>29000</td>\n",
              "      <td>1</td>\n",
              "    </tr>\n",
              "  </tbody>\n",
              "</table>\n",
              "</div>"
            ],
            "text/plain": [
              "     User ID  Gender  Age  EstimatedSalary  Purchased\n",
              "0   15624510    Male   19            19000          0\n",
              "1   15810944    Male   35            20000          0\n",
              "2   15668575  Female   26            43000          0\n",
              "3   15603246  Female   27            57000          0\n",
              "4   15804002    Male   19            76000          0\n",
              "5   15728773    Male   27            58000          0\n",
              "6   15598044  Female   27            84000          0\n",
              "7   15694829  Female   32           150000          1\n",
              "8   15600575    Male   25            33000          0\n",
              "9   15727311  Female   35            65000          0\n",
              "10  15570769  Female   26            80000          0\n",
              "11  15606274  Female   26            52000          0\n",
              "12  15746139    Male   20            86000          0\n",
              "13  15704987    Male   32            18000          0\n",
              "14  15628972    Male   18            82000          0\n",
              "15  15697686    Male   29            80000          0\n",
              "16  15733883    Male   47            25000          1\n",
              "17  15617482    Male   45            26000          1\n",
              "18  15704583    Male   46            28000          1\n",
              "19  15621083  Female   48            29000          1"
            ]
          },
          "metadata": {},
          "execution_count": 6
        }
      ],
      "source": [
        "dataset.head(20)"
      ]
    },
    {
      "cell_type": "code",
      "execution_count": 7,
      "metadata": {
        "id": "dMOgmAnGUJXR"
      },
      "outputs": [],
      "source": [
        "# Dividimos el dataset en training y test \n",
        "from sklearn.model_selection import train_test_split\n",
        "X_train, X_test, y_train, y_test = train_test_split(X, y, test_size = 0.25, random_state = 0)"
      ]
    },
    {
      "cell_type": "code",
      "source": [
        "# escalamos las variasbles\n",
        "from sklearn.preprocessing import StandardScaler\n",
        "sc=StandardScaler()\n",
        "X_train=sc.fit_transform(X_train)\n",
        "X_test=sc.transform(X_test)"
      ],
      "metadata": {
        "id": "uQV_hSSGcsiX"
      },
      "execution_count": 8,
      "outputs": []
    },
    {
      "cell_type": "code",
      "execution_count": 9,
      "metadata": {
        "colab": {
          "base_uri": "https://localhost:8080/"
        },
        "id": "UBGBczhrUJXT",
        "outputId": "4680eaa1-8cfb-489b-8d84-2188b0725a14"
      },
      "outputs": [
        {
          "output_type": "execute_result",
          "data": {
            "text/plain": [
              "KNeighborsClassifier(n_neighbors=2)"
            ]
          },
          "metadata": {},
          "execution_count": 9
        }
      ],
      "source": [
        "# Realizando el entrenamiento del dataset con Vecinos Cercanos\n",
        "from sklearn.neighbors import KNeighborsClassifier\n",
        "classifier = KNeighborsClassifier(n_neighbors = 2)\n",
        "classifier.fit(X_train, y_train)"
      ]
    },
    {
      "cell_type": "code",
      "execution_count": 10,
      "metadata": {
        "id": "hjGlQdABUJXU"
      },
      "outputs": [],
      "source": [
        "# Predicción del set de Test\n",
        "y_pred = classifier.predict(X_test)"
      ]
    },
    {
      "cell_type": "markdown",
      "metadata": {
        "id": "moT0I0tgUJXW"
      },
      "source": [
        "**Matriz de Confusión o Errores**\n",
        "\n",
        "\n",
        "\n",
        "\n",
        "    •Positivo (P): la observación es positiva \n",
        "    •Negativo (N): la observación no es positiva \n",
        "    •Verdadero Positivo (TP): Resultado en el que el modelo predice correctamente la clase positiva.\n",
        "    •Verdadero Negativo (TN): Resultado en el que el modelo predice correctamente la clase negativa.\n",
        "    •Falso positivo (FP): también llamado error de tipo 1, un resultado en el que el modelo predice incorrectamente la clase positiva cuando en realidad es negativa.\n",
        "    •Falso negativo (FN): también llamado error de tipo 2, un resultado en el que el modelo predice incorrectamente la clase negativa cuando en realidad es positivo.\n"
      ]
    },
    {
      "cell_type": "code",
      "execution_count": 11,
      "metadata": {
        "id": "lUhw6OhXUJXY"
      },
      "outputs": [],
      "source": [
        "# Matriz de Confusión\n",
        "from sklearn.metrics import confusion_matrix\n",
        "cm = confusion_matrix(y_test, y_pred)"
      ]
    },
    {
      "cell_type": "code",
      "execution_count": 12,
      "metadata": {
        "colab": {
          "base_uri": "https://localhost:8080/"
        },
        "id": "EKz31sAWUJXY",
        "outputId": "6f7cff86-6117-447e-ac75-336ccb84d68b"
      },
      "outputs": [
        {
          "output_type": "stream",
          "name": "stdout",
          "text": [
            "[[66  2]\n",
            " [ 8 24]]\n"
          ]
        }
      ],
      "source": [
        "print(cm) "
      ]
    },
    {
      "cell_type": "code",
      "execution_count": 13,
      "metadata": {
        "colab": {
          "base_uri": "https://localhost:8080/"
        },
        "id": "cPoBdn-5UJXZ",
        "outputId": "33f5a879-73be-4eaa-ac97-29b990cc882f"
      },
      "outputs": [
        {
          "output_type": "execute_result",
          "data": {
            "text/plain": [
              "0.9"
            ]
          },
          "metadata": {},
          "execution_count": 13
        }
      ],
      "source": [
        "from sklearn.metrics import accuracy_score\n",
        "#Exactitud - La exactitud (accuracy) mide el porcentaje de casos que el modelo ha acertado\n",
        "accuracy_score(y_test, y_pred)"
      ]
    },
    {
      "cell_type": "markdown",
      "metadata": {
        "id": "xG3dBTiwUJXa"
      },
      "source": [
        "**Parámetro Average:** string, [None, ‘binary’ (default), ‘micro’, ‘macro’, ‘samples’, ‘weighted’]\n",
        "\n",
        "Este parámetro es necesario para destinos multiclase / multilabel. Si es None, se devuelven las puntuaciones de cada clase. De lo contrario, esto determina el tipo de promediado realizado en los datos:\n",
        "\n",
        "'binary':\n",
        "Informe únicamente los resultados de la clase especificada por pos_label. Esto es aplicable solo si los destinos (y_ {true, pred}) son binarios.\n",
        "\n",
        "'micro':\n",
        "Calcula métricas globalmente contando el total de verdaderos positivos, falsos negativos y falsos positivos.\n",
        "\n",
        "'macro':\n",
        "Calcula métricas para cada etiqueta y encuentre su media no ponderada. Esto no tiene en cuenta el desequilibrio de etiquetas.\n",
        "\n",
        "'weighted':\n",
        "Calcula métricas para cada etiqueta y encuentra su promedio ponderado por soporte (el número de instancias reales para cada etiqueta). Esto altera \"macro\" para tener en cuenta el desequilibrio de etiquetas; puede resultar en una puntuación F que no se encuentra entre la precisión y el recuerdo.\n",
        "\n",
        "'samples':\n",
        "Calcule métricas para cada instancia y encuentre su promedio (solo es significativo para la clasificación de múltiples etiquetas donde esto difiere de precision_score)."
      ]
    },
    {
      "cell_type": "code",
      "execution_count": 14,
      "metadata": {
        "colab": {
          "base_uri": "https://localhost:8080/"
        },
        "id": "gEa-YI4HUJXb",
        "outputId": "6b5bfd6b-daec-4db2-8064-632466211d60"
      },
      "outputs": [
        {
          "output_type": "execute_result",
          "data": {
            "text/plain": [
              "0.9"
            ]
          },
          "metadata": {},
          "execution_count": 14
        }
      ],
      "source": [
        "# Precision - Con la métrica de precisión podemos medir la calidad del modelo de machine learning en tareas de clasificación.\n",
        "#Responde a la pregunta ¿qué porcentaje de lo identificado como positivo es realmente correcto?\n",
        "from sklearn.metrics import precision_score\n",
        "precision_score(y_test, y_pred, average='micro')"
      ]
    },
    {
      "cell_type": "code",
      "execution_count": 15,
      "metadata": {
        "colab": {
          "base_uri": "https://localhost:8080/"
        },
        "id": "veBTlX7pUJXc",
        "outputId": "21eba758-272d-4738-e2a8-e1321e4bf10d"
      },
      "outputs": [
        {
          "output_type": "execute_result",
          "data": {
            "text/plain": [
              "0.9"
            ]
          },
          "metadata": {},
          "execution_count": 15
        }
      ],
      "source": [
        "# Recall - ¿Qué porcentaje de los valores positivos fueron bien identificados?\n",
        "from sklearn.metrics import recall_score\n",
        "recall_score(y_test, y_pred, average='micro')"
      ]
    },
    {
      "cell_type": "code",
      "execution_count": 16,
      "metadata": {
        "colab": {
          "base_uri": "https://localhost:8080/"
        },
        "id": "vQZsVtlZUJXd",
        "outputId": "93ad7aff-eddc-426f-f1c1-2221b51f7911"
      },
      "outputs": [
        {
          "output_type": "execute_result",
          "data": {
            "text/plain": [
              "0.9"
            ]
          },
          "metadata": {},
          "execution_count": 16
        }
      ],
      "source": [
        "#rendimiento combinado de la precisión y la sensibilidad  \n",
        "from sklearn.metrics import f1_score \n",
        "f1_score(y_test, y_pred, average='micro')"
      ]
    },
    {
      "cell_type": "code",
      "execution_count": 17,
      "metadata": {
        "colab": {
          "base_uri": "https://localhost:8080/",
          "height": 350
        },
        "id": "7SdleR25UJXd",
        "outputId": "16fdfc99-4832-4bc0-898d-e37f018b11d5"
      },
      "outputs": [
        {
          "output_type": "stream",
          "name": "stderr",
          "text": [
            "*c* argument looks like a single numeric RGB or RGBA sequence, which should be avoided as value-mapping will have precedence in case its length matches with *x* & *y*.  Please use the *color* keyword-argument or provide a 2-D array with a single row if you intend to specify the same RGB or RGBA value for all points.\n",
            "*c* argument looks like a single numeric RGB or RGBA sequence, which should be avoided as value-mapping will have precedence in case its length matches with *x* & *y*.  Please use the *color* keyword-argument or provide a 2-D array with a single row if you intend to specify the same RGB or RGBA value for all points.\n"
          ]
        },
        {
          "output_type": "display_data",
          "data": {
            "image/png": "[encoded data removed]",
            "text/plain": [
              "<Figure size 432x288 with 1 Axes>"
            ]
          },
          "metadata": {
            "needs_background": "light"
          }
        }
      ],
      "source": [
        "# Visualización del set de training\n",
        "from matplotlib.colors import ListedColormap\n",
        "X_set, y_set = X_train, y_train\n",
        "X1, X2 = np.meshgrid(np.arange(start = X_set[:, 0].min() - 1, stop = X_set[:, 0].max() + 1, step = 0.01),\n",
        "                     np.arange(start = X_set[:, 1].min() - 1, stop = X_set[:, 1].max() + 1, step = 0.01))\n",
        "plt.contourf(X1, X2, classifier.predict(np.array([X1.ravel(), X2.ravel()]).T).reshape(X1.shape),\n",
        "             alpha = 0.75, cmap = ListedColormap(('red', 'green')))\n",
        "plt.xlim(X1.min(), X1.max())\n",
        "plt.ylim(X2.min(), X2.max())\n",
        "for i, j in enumerate(np.unique(y_set)):\n",
        "    plt.scatter(X_set[y_set == j, 0], X_set[y_set == j, 1],\n",
        "                c = ListedColormap(('red', 'green'))(i), label = j)\n",
        "plt.title('Classifier (Training set)')\n",
        "plt.xlabel('Edad')\n",
        "plt.ylabel('Salario Estimado')\n",
        "plt.legend()\n",
        "plt.show()"
      ]
    },
    {
      "cell_type": "code",
      "execution_count": 18,
      "metadata": {
        "id": "GDAWBzmeUJXe",
        "colab": {
          "base_uri": "https://localhost:8080/",
          "height": 350
        },
        "outputId": "c905f864-c6c5-4917-cad2-7883daf34d26"
      },
      "outputs": [
        {
          "output_type": "stream",
          "name": "stderr",
          "text": [
            "*c* argument looks like a single numeric RGB or RGBA sequence, which should be avoided as value-mapping will have precedence in case its length matches with *x* & *y*.  Please use the *color* keyword-argument or provide a 2-D array with a single row if you intend to specify the same RGB or RGBA value for all points.\n",
            "*c* argument looks like a single numeric RGB or RGBA sequence, which should be avoided as value-mapping will have precedence in case its length matches with *x* & *y*.  Please use the *color* keyword-argument or provide a 2-D array with a single row if you intend to specify the same RGB or RGBA value for all points.\n"
          ]
        },
        {
          "output_type": "display_data",
          "data": {
            "image/png": "[encoded data removed]",
            "text/plain": [
              "<Figure size 432x288 with 1 Axes>"
            ]
          },
          "metadata": {
            "needs_background": "light"
          }
        }
      ],
      "source": [
        "# Visualización del set de Testing\n",
        "from matplotlib.colors import ListedColormap\n",
        "X_train, y_train = X_set, y_set\n",
        "X1, X2 = np.meshgrid(np.arange(start = X_set[:, 0].min() - 1, stop = X_set[:, 0].max() + 1, step = 0.01),\n",
        "                     np.arange(start = X_set[:, 1].min() - 1, stop = X_set[:, 1].max() + 1, step = 0.01))\n",
        "plt.contourf(X1, X2, classifier.predict(np.array([X1.ravel(), X2.ravel()]).T).reshape(X1.shape),\n",
        "             alpha = 0.75, cmap = ListedColormap(('red', 'green')))\n",
        "plt.xlim(X1.min(), X1.max())\n",
        "plt.ylim(X2.min(), X2.max())\n",
        "for i, j in enumerate(np.unique(y_set)):\n",
        "    plt.scatter(X_set[y_set == j, 0], X_set[y_set == j, 1],\n",
        "                c = ListedColormap(('red', 'green'))(i), label = j)\n",
        "plt.title('Classifier (Testing set)')\n",
        "plt.xlabel('Edad')\n",
        "plt.ylabel('Salario Estimado')\n",
        "plt.legend()\n",
        "plt.show()"
      ]
    },
    {
      "cell_type": "code",
      "execution_count": 18,
      "metadata": {
        "id": "1iFiVLVJUJXf"
      },
      "outputs": [],
      "source": [
        ""
      ]
    }
  ],
  "metadata": {
    "kernelspec": {
      "display_name": "Python 3",
      "language": "python",
      "name": "python3"
    },
    "language_info": {
      "codemirror_mode": {
        "name": "ipython",
        "version": 3
      },
      "file_extension": ".py",
      "mimetype": "text/x-python",
      "name": "python",
      "nbconvert_exporter": "python",
      "pygments_lexer": "ipython3",
      "version": "3.8.3"
    },
    "colab": {
      "name": "KNN_Vecinos_Cercanos_ejemplo.ipynb",
      "provenance": [],
      "collapsed_sections": [],
      "include_colab_link": true
    }
  },
  "nbformat": 4,
  "nbformat_minor": 0
}