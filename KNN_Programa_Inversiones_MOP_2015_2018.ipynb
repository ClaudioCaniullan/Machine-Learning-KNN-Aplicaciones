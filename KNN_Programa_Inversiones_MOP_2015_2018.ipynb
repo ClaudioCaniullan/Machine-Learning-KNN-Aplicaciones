{
  "nbformat": 4,
  "nbformat_minor": 0,
  "metadata": {
    "colab": {
      "name": "KNN Programa Inversiones MOP 2015-2018.ipynb",
      "provenance": [],
      "mount_file_id": "1283ENMAyup2z61r6Je7PwT-L8MUG0bIo",
      "authorship_tag": "ABX9TyOd+o/ryNA34A76vclVfdu6",
      "include_colab_link": true
    },
    "kernelspec": {
      "name": "python3",
      "display_name": "Python 3"
    },
    "language_info": {
      "name": "python"
    }
  },
  "cells": [
    {
      "cell_type": "markdown",
      "metadata": {
        "id": "view-in-github",
        "colab_type": "text"
      },
      "source": [
        "<a href=\"https://colab.research.google.com/github/ClaudioCaniullan/Machine-Learning-KNN-Aplicaciones/blob/main/KNN_Programa_Inversiones_MOP_2015_2018.ipynb\" target=\"_parent\"><img src=\"https://colab.research.google.com/assets/colab-badge.svg\" alt=\"Open In Colab\"/></a>"
      ]
    },
    {
      "cell_type": "markdown",
      "source": [
        "**KNN Programa Inversiones MOP 2015-2018**\n",
        "El siguiente notebook tiene por objetivo el diseño de un clasificador de proyectos de inversiones dada dos categorias A y N utilizando el algoritmo KNN, donde A son todos los proyectos que se arrastran del año 2014 y N son los proyectos nuevos a partir del año 2015. Entonces, dado un proyecto de inversion sobre el cual conocemos sus montos de los años 2015, 2016, 2017 y 2018 podemos determinar a que tipo de inversion corresponde, es decir, si es de arrastre A o N nuevo.\n",
        "\n",
        "La fuente de información fue extraida desde [Programa Anual de Inversiones del Ministerio de Obras Públicas año 2015](https://datos.gob.cl/dataset/31476) el cual es un repositorio de datos abiertos del Gobierno de Chile. "
      ],
      "metadata": {
        "id": "r88lily7BDqp"
      }
    },
    {
      "cell_type": "code",
      "execution_count": 50,
      "metadata": {
        "id": "j_5uR6wEHpJo"
      },
      "outputs": [],
      "source": [
        "# importar librerias\n",
        "import pandas as pd\n",
        "import numpy as np\n",
        "import matplotlib.pyplot as plt\n"
      ]
    },
    {
      "cell_type": "code",
      "source": [
        "# obtener los datos desde mi drive\n",
        "data = pd.read_csv('/content/drive/MyDrive/Colab Notebooks/db/Programa_Inversiones_MOP_2015_ST_31_ver_001.csv')"
      ],
      "metadata": {
        "id": "-bmwtESMIIeS"
      },
      "execution_count": 51,
      "outputs": []
    },
    {
      "cell_type": "code",
      "source": [
        "# revisamos la data y sus caracteristicas \n",
        "data.info()"
      ],
      "metadata": {
        "colab": {
          "base_uri": "https://localhost:8080/"
        },
        "id": "g5OjyyA5IYmx",
        "outputId": "5fde160e-b070-4d03-aa4e-ee3eeb19f6b3"
      },
      "execution_count": 52,
      "outputs": [
        {
          "output_type": "stream",
          "name": "stdout",
          "text": [
            "<class 'pandas.core.frame.DataFrame'>\n",
            "RangeIndex: 2088 entries, 0 to 2087\n",
            "Data columns (total 13 columns):\n",
            " #   Column                          Non-Null Count  Dtype \n",
            "---  ------                          --------------  ----- \n",
            " 0   _id                             2088 non-null   int64 \n",
            " 1   REGION                          2088 non-null   object\n",
            " 2   SERVICIO                        2088 non-null   object\n",
            " 3   ITEM                            2088 non-null   object\n",
            " 4   COD BIP                         2088 non-null   object\n",
            " 5   NOMBRE INICIATIVA DE INVERSION  2088 non-null   object\n",
            " 6   ETAPA MIDESO                    2088 non-null   object\n",
            " 7   NUEVO/ ARRASTRE                 2088 non-null   object\n",
            " 8   MONTO 2015                      2088 non-null   int64 \n",
            " 9   MONTO 2016                      2088 non-null   int64 \n",
            " 10  MONTO 2017                      2088 non-null   int64 \n",
            " 11  MONTO 2018                      2088 non-null   int64 \n",
            " 12  SALDO                           2088 non-null   int64 \n",
            "dtypes: int64(6), object(7)\n",
            "memory usage: 212.2+ KB\n"
          ]
        }
      ]
    },
    {
      "cell_type": "code",
      "source": [
        "# revisar la estructura del csv\n",
        "data.head()"
      ],
      "metadata": {
        "colab": {
          "base_uri": "https://localhost:8080/",
          "height": 354
        },
        "id": "BLMI3C99Iojv",
        "outputId": "4e7c65d4-f634-45c4-82e9-baf9b0654a31"
      },
      "execution_count": 53,
      "outputs": [
        {
          "output_type": "execute_result",
          "data": {
            "text/html": [
              "\n",
              "  <div id=\"df-85587f67-3a14-4c7c-b13c-78cad8ecfafb\">\n",
              "    <div class=\"colab-df-container\">\n",
              "      <div>\n",
              "<style scoped>\n",
              "    .dataframe tbody tr th:only-of-type {\n",
              "        vertical-align: middle;\n",
              "    }\n",
              "\n",
              "    .dataframe tbody tr th {\n",
              "        vertical-align: top;\n",
              "    }\n",
              "\n",
              "    .dataframe thead th {\n",
              "        text-align: right;\n",
              "    }\n",
              "</style>\n",
              "<table border=\"1\" class=\"dataframe\">\n",
              "  <thead>\n",
              "    <tr style=\"text-align: right;\">\n",
              "      <th></th>\n",
              "      <th>_id</th>\n",
              "      <th>REGION</th>\n",
              "      <th>SERVICIO</th>\n",
              "      <th>ITEM</th>\n",
              "      <th>COD BIP</th>\n",
              "      <th>NOMBRE INICIATIVA DE INVERSION</th>\n",
              "      <th>ETAPA MIDESO</th>\n",
              "      <th>NUEVO/ ARRASTRE</th>\n",
              "      <th>MONTO 2015</th>\n",
              "      <th>MONTO 2016</th>\n",
              "      <th>MONTO 2017</th>\n",
              "      <th>MONTO 2018</th>\n",
              "      <th>SALDO</th>\n",
              "    </tr>\n",
              "  </thead>\n",
              "  <tbody>\n",
              "    <tr>\n",
              "      <th>0</th>\n",
              "      <td>1</td>\n",
              "      <td>Arica y Parinacota</td>\n",
              "      <td>Arquitectura</td>\n",
              "      <td>PROYECTOS</td>\n",
              "      <td>30106163-0</td>\n",
              "      <td>REPARACIÓN ESTRUCTURAL Y MEJORAMIENTO INSTALAC...</td>\n",
              "      <td>DISEÑO</td>\n",
              "      <td>A</td>\n",
              "      <td>1400</td>\n",
              "      <td>0</td>\n",
              "      <td>0</td>\n",
              "      <td>0</td>\n",
              "      <td>0</td>\n",
              "    </tr>\n",
              "    <tr>\n",
              "      <th>1</th>\n",
              "      <td>2</td>\n",
              "      <td>Arica y Parinacota</td>\n",
              "      <td>Arquitectura</td>\n",
              "      <td>PROYECTOS</td>\n",
              "      <td>30106163-0</td>\n",
              "      <td>REPARACIÓN ESTRUCTURAL Y MEJORAMIENTO INSTALAC...</td>\n",
              "      <td>DISEÑO</td>\n",
              "      <td>N</td>\n",
              "      <td>149981</td>\n",
              "      <td>81000</td>\n",
              "      <td>0</td>\n",
              "      <td>0</td>\n",
              "      <td>0</td>\n",
              "    </tr>\n",
              "    <tr>\n",
              "      <th>2</th>\n",
              "      <td>3</td>\n",
              "      <td>Arica y Parinacota</td>\n",
              "      <td>Arquitectura</td>\n",
              "      <td>PROYECTOS</td>\n",
              "      <td>30106763-0</td>\n",
              "      <td>NORMALIZACION DEPENDENCIAS MOP VIALIDAD  AZOLA...</td>\n",
              "      <td>DISEÑO</td>\n",
              "      <td>A</td>\n",
              "      <td>1500</td>\n",
              "      <td>0</td>\n",
              "      <td>0</td>\n",
              "      <td>0</td>\n",
              "      <td>0</td>\n",
              "    </tr>\n",
              "    <tr>\n",
              "      <th>3</th>\n",
              "      <td>4</td>\n",
              "      <td>Arica y Parinacota</td>\n",
              "      <td>Arquitectura</td>\n",
              "      <td>PROYECTOS</td>\n",
              "      <td>30106763-0</td>\n",
              "      <td>NORMALIZACION DEPENDENCIAS MOP VIALIDAD  AZOLA...</td>\n",
              "      <td>DISEÑO</td>\n",
              "      <td>N</td>\n",
              "      <td>125065</td>\n",
              "      <td>126000</td>\n",
              "      <td>0</td>\n",
              "      <td>0</td>\n",
              "      <td>0</td>\n",
              "    </tr>\n",
              "    <tr>\n",
              "      <th>4</th>\n",
              "      <td>5</td>\n",
              "      <td>Arica y Parinacota</td>\n",
              "      <td>Arquitectura</td>\n",
              "      <td>PROYECTOS</td>\n",
              "      <td>30294774-0</td>\n",
              "      <td>CONSTRUCCION TALLER VIALIDAD PUTRE PARINACOTA</td>\n",
              "      <td>DISEÑO</td>\n",
              "      <td>N</td>\n",
              "      <td>66644</td>\n",
              "      <td>19656</td>\n",
              "      <td>0</td>\n",
              "      <td>0</td>\n",
              "      <td>0</td>\n",
              "    </tr>\n",
              "  </tbody>\n",
              "</table>\n",
              "</div>\n",
              "      <button class=\"colab-df-convert\" onclick=\"convertToInteractive('df-85587f67-3a14-4c7c-b13c-78cad8ecfafb')\"\n",
              "              title=\"Convert this dataframe to an interactive table.\"\n",
              "              style=\"display:none;\">\n",
              "        \n",
              "  <svg xmlns=\"http://www.w3.org/2000/svg\" height=\"24px\"viewBox=\"0 0 24 24\"\n",
              "       width=\"24px\">\n",
              "    <path d=\"M0 0h24v24H0V0z\" fill=\"none\"/>\n",
              "    <path d=\"M18.56 5.44l.94 2.06.94-2.06 2.06-.94-2.06-.94-.94-2.06-.94 2.06-2.06.94zm-11 1L8.5 8.5l.94-2.06 2.06-.94-2.06-.94L8.5 2.5l-.94 2.06-2.06.94zm10 10l.94 2.06.94-2.06 2.06-.94-2.06-.94-.94-2.06-.94 2.06-2.06.94z\"/><path d=\"M17.41 7.96l-1.37-1.37c-.4-.4-.92-.59-1.43-.59-.52 0-1.04.2-1.43.59L10.3 9.45l-7.72 7.72c-.78.78-.78 2.05 0 2.83L4 21.41c.39.39.9.59 1.41.59.51 0 1.02-.2 1.41-.59l7.78-7.78 2.81-2.81c.8-.78.8-2.07 0-2.86zM5.41 20L4 18.59l7.72-7.72 1.47 1.35L5.41 20z\"/>\n",
              "  </svg>\n",
              "      </button>\n",
              "      \n",
              "  <style>\n",
              "    .colab-df-container {\n",
              "      display:flex;\n",
              "      flex-wrap:wrap;\n",
              "      gap: 12px;\n",
              "    }\n",
              "\n",
              "    .colab-df-convert {\n",
              "      background-color: #E8F0FE;\n",
              "      border: none;\n",
              "      border-radius: 50%;\n",
              "      cursor: pointer;\n",
              "      display: none;\n",
              "      fill: #1967D2;\n",
              "      height: 32px;\n",
              "      padding: 0 0 0 0;\n",
              "      width: 32px;\n",
              "    }\n",
              "\n",
              "    .colab-df-convert:hover {\n",
              "      background-color: #E2EBFA;\n",
              "      box-shadow: 0px 1px 2px rgba(60, 64, 67, 0.3), 0px 1px 3px 1px rgba(60, 64, 67, 0.15);\n",
              "      fill: #174EA6;\n",
              "    }\n",
              "\n",
              "    [theme=dark] .colab-df-convert {\n",
              "      background-color: #3B4455;\n",
              "      fill: #D2E3FC;\n",
              "    }\n",
              "\n",
              "    [theme=dark] .colab-df-convert:hover {\n",
              "      background-color: #434B5C;\n",
              "      box-shadow: 0px 1px 3px 1px rgba(0, 0, 0, 0.15);\n",
              "      filter: drop-shadow(0px 1px 2px rgba(0, 0, 0, 0.3));\n",
              "      fill: #FFFFFF;\n",
              "    }\n",
              "  </style>\n",
              "\n",
              "      <script>\n",
              "        const buttonEl =\n",
              "          document.querySelector('#df-85587f67-3a14-4c7c-b13c-78cad8ecfafb button.colab-df-convert');\n",
              "        buttonEl.style.display =\n",
              "          google.colab.kernel.accessAllowed ? 'block' : 'none';\n",
              "\n",
              "        async function convertToInteractive(key) {\n",
              "          const element = document.querySelector('#df-85587f67-3a14-4c7c-b13c-78cad8ecfafb');\n",
              "          const dataTable =\n",
              "            await google.colab.kernel.invokeFunction('convertToInteractive',\n",
              "                                                     [key], {});\n",
              "          if (!dataTable) return;\n",
              "\n",
              "          const docLinkHtml = 'Like what you see? Visit the ' +\n",
              "            '<a target=\"_blank\" href=https://colab.research.google.com/notebooks/data_table.ipynb>data table notebook</a>'\n",
              "            + ' to learn more about interactive tables.';\n",
              "          element.innerHTML = '';\n",
              "          dataTable['output_type'] = 'display_data';\n",
              "          await google.colab.output.renderOutput(dataTable, element);\n",
              "          const docLink = document.createElement('div');\n",
              "          docLink.innerHTML = docLinkHtml;\n",
              "          element.appendChild(docLink);\n",
              "        }\n",
              "      </script>\n",
              "    </div>\n",
              "  </div>\n",
              "  "
            ],
            "text/plain": [
              "   _id              REGION      SERVICIO  ... MONTO 2017 MONTO 2018 SALDO\n",
              "0    1  Arica y Parinacota  Arquitectura  ...          0          0     0\n",
              "1    2  Arica y Parinacota  Arquitectura  ...          0          0     0\n",
              "2    3  Arica y Parinacota  Arquitectura  ...          0          0     0\n",
              "3    4  Arica y Parinacota  Arquitectura  ...          0          0     0\n",
              "4    5  Arica y Parinacota  Arquitectura  ...          0          0     0\n",
              "\n",
              "[5 rows x 13 columns]"
            ]
          },
          "metadata": {},
          "execution_count": 53
        }
      ]
    },
    {
      "cell_type": "code",
      "source": [
        "# revisar las medidas de tendencia central y de posición \n",
        "data.describe()"
      ],
      "metadata": {
        "colab": {
          "base_uri": "https://localhost:8080/",
          "height": 300
        },
        "id": "wXj6be9qJKL1",
        "outputId": "8525e03f-6140-40f8-f860-52af7658e747"
      },
      "execution_count": 54,
      "outputs": [
        {
          "output_type": "execute_result",
          "data": {
            "text/html": [
              "\n",
              "  <div id=\"df-61454466-06b4-4316-9001-f286c368fc27\">\n",
              "    <div class=\"colab-df-container\">\n",
              "      <div>\n",
              "<style scoped>\n",
              "    .dataframe tbody tr th:only-of-type {\n",
              "        vertical-align: middle;\n",
              "    }\n",
              "\n",
              "    .dataframe tbody tr th {\n",
              "        vertical-align: top;\n",
              "    }\n",
              "\n",
              "    .dataframe thead th {\n",
              "        text-align: right;\n",
              "    }\n",
              "</style>\n",
              "<table border=\"1\" class=\"dataframe\">\n",
              "  <thead>\n",
              "    <tr style=\"text-align: right;\">\n",
              "      <th></th>\n",
              "      <th>_id</th>\n",
              "      <th>MONTO 2015</th>\n",
              "      <th>MONTO 2016</th>\n",
              "      <th>MONTO 2017</th>\n",
              "      <th>MONTO 2018</th>\n",
              "      <th>SALDO</th>\n",
              "    </tr>\n",
              "  </thead>\n",
              "  <tbody>\n",
              "    <tr>\n",
              "      <th>count</th>\n",
              "      <td>2088.000000</td>\n",
              "      <td>2.088000e+03</td>\n",
              "      <td>2.088000e+03</td>\n",
              "      <td>2.088000e+03</td>\n",
              "      <td>2.088000e+03</td>\n",
              "      <td>2.088000e+03</td>\n",
              "    </tr>\n",
              "    <tr>\n",
              "      <th>mean</th>\n",
              "      <td>1044.500000</td>\n",
              "      <td>7.486110e+05</td>\n",
              "      <td>6.775651e+05</td>\n",
              "      <td>4.286681e+05</td>\n",
              "      <td>1.762745e+05</td>\n",
              "      <td>2.703054e+05</td>\n",
              "    </tr>\n",
              "    <tr>\n",
              "      <th>std</th>\n",
              "      <td>602.898001</td>\n",
              "      <td>2.289072e+06</td>\n",
              "      <td>2.073006e+06</td>\n",
              "      <td>2.277109e+06</td>\n",
              "      <td>1.791411e+06</td>\n",
              "      <td>5.961275e+06</td>\n",
              "    </tr>\n",
              "    <tr>\n",
              "      <th>min</th>\n",
              "      <td>1.000000</td>\n",
              "      <td>-1.145200e+04</td>\n",
              "      <td>0.000000e+00</td>\n",
              "      <td>0.000000e+00</td>\n",
              "      <td>0.000000e+00</td>\n",
              "      <td>0.000000e+00</td>\n",
              "    </tr>\n",
              "    <tr>\n",
              "      <th>25%</th>\n",
              "      <td>522.750000</td>\n",
              "      <td>4.425750e+03</td>\n",
              "      <td>0.000000e+00</td>\n",
              "      <td>0.000000e+00</td>\n",
              "      <td>0.000000e+00</td>\n",
              "      <td>0.000000e+00</td>\n",
              "    </tr>\n",
              "    <tr>\n",
              "      <th>50%</th>\n",
              "      <td>1044.500000</td>\n",
              "      <td>9.418300e+04</td>\n",
              "      <td>0.000000e+00</td>\n",
              "      <td>0.000000e+00</td>\n",
              "      <td>0.000000e+00</td>\n",
              "      <td>0.000000e+00</td>\n",
              "    </tr>\n",
              "    <tr>\n",
              "      <th>75%</th>\n",
              "      <td>1566.250000</td>\n",
              "      <td>4.694700e+05</td>\n",
              "      <td>2.769615e+05</td>\n",
              "      <td>0.000000e+00</td>\n",
              "      <td>0.000000e+00</td>\n",
              "      <td>0.000000e+00</td>\n",
              "    </tr>\n",
              "    <tr>\n",
              "      <th>max</th>\n",
              "      <td>2088.000000</td>\n",
              "      <td>4.345311e+07</td>\n",
              "      <td>3.380360e+07</td>\n",
              "      <td>7.172500e+07</td>\n",
              "      <td>6.470000e+07</td>\n",
              "      <td>2.454465e+08</td>\n",
              "    </tr>\n",
              "  </tbody>\n",
              "</table>\n",
              "</div>\n",
              "      <button class=\"colab-df-convert\" onclick=\"convertToInteractive('df-61454466-06b4-4316-9001-f286c368fc27')\"\n",
              "              title=\"Convert this dataframe to an interactive table.\"\n",
              "              style=\"display:none;\">\n",
              "        \n",
              "  <svg xmlns=\"http://www.w3.org/2000/svg\" height=\"24px\"viewBox=\"0 0 24 24\"\n",
              "       width=\"24px\">\n",
              "    <path d=\"M0 0h24v24H0V0z\" fill=\"none\"/>\n",
              "    <path d=\"M18.56 5.44l.94 2.06.94-2.06 2.06-.94-2.06-.94-.94-2.06-.94 2.06-2.06.94zm-11 1L8.5 8.5l.94-2.06 2.06-.94-2.06-.94L8.5 2.5l-.94 2.06-2.06.94zm10 10l.94 2.06.94-2.06 2.06-.94-2.06-.94-.94-2.06-.94 2.06-2.06.94z\"/><path d=\"M17.41 7.96l-1.37-1.37c-.4-.4-.92-.59-1.43-.59-.52 0-1.04.2-1.43.59L10.3 9.45l-7.72 7.72c-.78.78-.78 2.05 0 2.83L4 21.41c.39.39.9.59 1.41.59.51 0 1.02-.2 1.41-.59l7.78-7.78 2.81-2.81c.8-.78.8-2.07 0-2.86zM5.41 20L4 18.59l7.72-7.72 1.47 1.35L5.41 20z\"/>\n",
              "  </svg>\n",
              "      </button>\n",
              "      \n",
              "  <style>\n",
              "    .colab-df-container {\n",
              "      display:flex;\n",
              "      flex-wrap:wrap;\n",
              "      gap: 12px;\n",
              "    }\n",
              "\n",
              "    .colab-df-convert {\n",
              "      background-color: #E8F0FE;\n",
              "      border: none;\n",
              "      border-radius: 50%;\n",
              "      cursor: pointer;\n",
              "      display: none;\n",
              "      fill: #1967D2;\n",
              "      height: 32px;\n",
              "      padding: 0 0 0 0;\n",
              "      width: 32px;\n",
              "    }\n",
              "\n",
              "    .colab-df-convert:hover {\n",
              "      background-color: #E2EBFA;\n",
              "      box-shadow: 0px 1px 2px rgba(60, 64, 67, 0.3), 0px 1px 3px 1px rgba(60, 64, 67, 0.15);\n",
              "      fill: #174EA6;\n",
              "    }\n",
              "\n",
              "    [theme=dark] .colab-df-convert {\n",
              "      background-color: #3B4455;\n",
              "      fill: #D2E3FC;\n",
              "    }\n",
              "\n",
              "    [theme=dark] .colab-df-convert:hover {\n",
              "      background-color: #434B5C;\n",
              "      box-shadow: 0px 1px 3px 1px rgba(0, 0, 0, 0.15);\n",
              "      filter: drop-shadow(0px 1px 2px rgba(0, 0, 0, 0.3));\n",
              "      fill: #FFFFFF;\n",
              "    }\n",
              "  </style>\n",
              "\n",
              "      <script>\n",
              "        const buttonEl =\n",
              "          document.querySelector('#df-61454466-06b4-4316-9001-f286c368fc27 button.colab-df-convert');\n",
              "        buttonEl.style.display =\n",
              "          google.colab.kernel.accessAllowed ? 'block' : 'none';\n",
              "\n",
              "        async function convertToInteractive(key) {\n",
              "          const element = document.querySelector('#df-61454466-06b4-4316-9001-f286c368fc27');\n",
              "          const dataTable =\n",
              "            await google.colab.kernel.invokeFunction('convertToInteractive',\n",
              "                                                     [key], {});\n",
              "          if (!dataTable) return;\n",
              "\n",
              "          const docLinkHtml = 'Like what you see? Visit the ' +\n",
              "            '<a target=\"_blank\" href=https://colab.research.google.com/notebooks/data_table.ipynb>data table notebook</a>'\n",
              "            + ' to learn more about interactive tables.';\n",
              "          element.innerHTML = '';\n",
              "          dataTable['output_type'] = 'display_data';\n",
              "          await google.colab.output.renderOutput(dataTable, element);\n",
              "          const docLink = document.createElement('div');\n",
              "          docLink.innerHTML = docLinkHtml;\n",
              "          element.appendChild(docLink);\n",
              "        }\n",
              "      </script>\n",
              "    </div>\n",
              "  </div>\n",
              "  "
            ],
            "text/plain": [
              "               _id    MONTO 2015  ...    MONTO 2018         SALDO\n",
              "count  2088.000000  2.088000e+03  ...  2.088000e+03  2.088000e+03\n",
              "mean   1044.500000  7.486110e+05  ...  1.762745e+05  2.703054e+05\n",
              "std     602.898001  2.289072e+06  ...  1.791411e+06  5.961275e+06\n",
              "min       1.000000 -1.145200e+04  ...  0.000000e+00  0.000000e+00\n",
              "25%     522.750000  4.425750e+03  ...  0.000000e+00  0.000000e+00\n",
              "50%    1044.500000  9.418300e+04  ...  0.000000e+00  0.000000e+00\n",
              "75%    1566.250000  4.694700e+05  ...  0.000000e+00  0.000000e+00\n",
              "max    2088.000000  4.345311e+07  ...  6.470000e+07  2.454465e+08\n",
              "\n",
              "[8 rows x 6 columns]"
            ]
          },
          "metadata": {},
          "execution_count": 54
        }
      ]
    },
    {
      "cell_type": "code",
      "source": [
        "# extraer las columnas de montos de los años 2015, 2016, 2017 y 2018\n",
        "x = data.iloc[:,[8,9,10,11,12]].values\n",
        "x"
      ],
      "metadata": {
        "colab": {
          "base_uri": "https://localhost:8080/"
        },
        "id": "Du8SKO4zVYwQ",
        "outputId": "9a85697d-fab5-4ed7-cc2d-9c14a51b6720"
      },
      "execution_count": 55,
      "outputs": [
        {
          "output_type": "execute_result",
          "data": {
            "text/plain": [
              "array([[  1400,      0,      0,      0,      0],\n",
              "       [149981,  81000,      0,      0,      0],\n",
              "       [  1500,      0,      0,      0,      0],\n",
              "       ...,\n",
              "       [ 40000,      0,      0,      0,      0],\n",
              "       [ 71070,  93444,      0,      0,      0],\n",
              "       [267800,      0,      0,      0,      0]])"
            ]
          },
          "metadata": {},
          "execution_count": 55
        }
      ]
    },
    {
      "cell_type": "code",
      "source": [
        "# extraer la columna 7 que corresponde a los target A=arrastre y N=nuevo\n",
        "y_cat = data.iloc[:,7].values\n",
        "y_cat"
      ],
      "metadata": {
        "colab": {
          "base_uri": "https://localhost:8080/"
        },
        "id": "__322hztWDNY",
        "outputId": "d510c3a9-275e-41d0-d89b-c8d4312c54d0"
      },
      "execution_count": 56,
      "outputs": [
        {
          "output_type": "execute_result",
          "data": {
            "text/plain": [
              "array(['A   ', 'N   ', 'A   ', ..., 'N   ', 'N   ', 'A   '], dtype=object)"
            ]
          },
          "metadata": {},
          "execution_count": 56
        }
      ]
    },
    {
      "cell_type": "code",
      "source": [
        "# transformar la variable categorica y_cat [A,N] en una varible dummies de tipo numérico [0,1]\n",
        "y_dummie = pd.get_dummies(data.iloc[:,7], drop_first=True)\n",
        "y_num=y_dummie.iloc[:,0].values\n",
        "y_num"
      ],
      "metadata": {
        "colab": {
          "base_uri": "https://localhost:8080/"
        },
        "id": "dAY5AhlcWVhf",
        "outputId": "6faa3f74-fe30-4aea-dd45-505ff3dca2b5"
      },
      "execution_count": 57,
      "outputs": [
        {
          "output_type": "execute_result",
          "data": {
            "text/plain": [
              "array([0, 1, 0, ..., 1, 1, 0], dtype=uint8)"
            ]
          },
          "metadata": {},
          "execution_count": 57
        }
      ]
    },
    {
      "cell_type": "code",
      "source": [
        "# Dividir x, y_num en training y test \n",
        "from sklearn.model_selection import train_test_split\n",
        "X_train, X_test, y_train, y_test = train_test_split(x, y_num, test_size = 0.25, random_state = 0)"
      ],
      "metadata": {
        "id": "-r19vLHP7WVP"
      },
      "execution_count": 58,
      "outputs": []
    },
    {
      "cell_type": "code",
      "source": [
        "# escalar las variables X_train y X_test\n",
        "from sklearn.preprocessing import StandardScaler\n",
        "sc=StandardScaler()\n",
        "X_train=sc.fit_transform(X_train)\n",
        "X_test=sc.transform(X_test)"
      ],
      "metadata": {
        "id": "O0yqHzbz7wkt"
      },
      "execution_count": 59,
      "outputs": []
    },
    {
      "cell_type": "code",
      "source": [
        "# Realizar el entrenamiento de los datos con KNN\n",
        "from sklearn.neighbors import KNeighborsClassifier\n",
        "classifier = KNeighborsClassifier(n_neighbors = 10)\n",
        "classifier.fit(X_train, y_train)"
      ],
      "metadata": {
        "colab": {
          "base_uri": "https://localhost:8080/"
        },
        "id": "bTLMhqh37-6x",
        "outputId": "0026b56e-5a2b-4e3c-9ac6-09b9f435a8c0"
      },
      "execution_count": 60,
      "outputs": [
        {
          "output_type": "execute_result",
          "data": {
            "text/plain": [
              "KNeighborsClassifier(n_neighbors=10)"
            ]
          },
          "metadata": {},
          "execution_count": 60
        }
      ]
    },
    {
      "cell_type": "code",
      "source": [
        "# Predecir con los datos X_test\n",
        "y_pred = classifier.predict(X_test)\n",
        "y_pred"
      ],
      "metadata": {
        "colab": {
          "base_uri": "https://localhost:8080/"
        },
        "id": "xYUZ6Zoo-fRr",
        "outputId": "829864fe-688f-44e0-ca37-3384085e8490"
      },
      "execution_count": 61,
      "outputs": [
        {
          "output_type": "execute_result",
          "data": {
            "text/plain": [
              "array([1, 0, 0, 1, 0, 0, 0, 0, 1, 1, 1, 0, 0, 1, 1, 0, 0, 1, 0, 0, 1, 0,\n",
              "       0, 1, 0, 0, 1, 1, 0, 1, 0, 0, 1, 0, 1, 0, 0, 1, 0, 0, 0, 1, 1, 1,\n",
              "       1, 1, 0, 0, 0, 1, 1, 0, 1, 0, 0, 0, 1, 0, 0, 1, 0, 0, 1, 0, 0, 0,\n",
              "       0, 1, 0, 0, 0, 0, 1, 0, 0, 0, 1, 0, 1, 0, 0, 0, 1, 1, 0, 0, 0, 0,\n",
              "       0, 1, 0, 1, 0, 1, 0, 0, 0, 1, 0, 0, 0, 0, 0, 1, 1, 0, 1, 0, 0, 1,\n",
              "       1, 0, 0, 0, 1, 0, 0, 1, 0, 0, 0, 0, 0, 1, 0, 0, 0, 0, 0, 0, 0, 1,\n",
              "       1, 0, 0, 0, 0, 0, 0, 0, 0, 0, 1, 1, 0, 0, 0, 1, 0, 1, 0, 0, 0, 0,\n",
              "       1, 0, 0, 0, 0, 1, 0, 0, 0, 1, 0, 0, 0, 1, 0, 1, 1, 0, 0, 1, 0, 0,\n",
              "       0, 0, 0, 0, 1, 0, 0, 0, 0, 1, 0, 0, 0, 0, 0, 0, 1, 1, 1, 0, 1, 0,\n",
              "       0, 0, 0, 0, 1, 1, 0, 0, 0, 0, 1, 0, 0, 0, 1, 1, 1, 1, 1, 0, 1, 0,\n",
              "       0, 1, 0, 1, 0, 1, 0, 1, 0, 0, 1, 0, 1, 1, 0, 1, 1, 1, 0, 0, 0, 0,\n",
              "       0, 0, 1, 0, 0, 0, 0, 1, 0, 0, 1, 0, 0, 1, 1, 0, 0, 1, 1, 0, 1, 0,\n",
              "       0, 0, 0, 0, 0, 0, 0, 1, 0, 0, 0, 0, 1, 1, 0, 0, 1, 0, 1, 1, 1, 1,\n",
              "       0, 0, 0, 1, 1, 0, 1, 0, 0, 1, 0, 0, 1, 1, 0, 0, 0, 1, 0, 1, 0, 0,\n",
              "       0, 0, 0, 0, 0, 0, 0, 0, 0, 0, 0, 1, 0, 1, 0, 1, 1, 0, 1, 0, 0, 1,\n",
              "       0, 0, 0, 0, 0, 1, 0, 1, 1, 0, 1, 0, 1, 0, 0, 0, 0, 0, 0, 0, 1, 1,\n",
              "       0, 1, 1, 1, 0, 1, 1, 0, 0, 1, 0, 1, 0, 0, 0, 0, 0, 0, 1, 0, 0, 0,\n",
              "       0, 0, 0, 0, 1, 1, 0, 0, 1, 1, 1, 0, 0, 0, 1, 0, 0, 1, 0, 1, 0, 1,\n",
              "       0, 1, 0, 1, 0, 0, 1, 0, 0, 0, 1, 1, 0, 1, 1, 1, 1, 0, 1, 1, 0, 0,\n",
              "       0, 1, 0, 1, 0, 0, 1, 0, 0, 1, 0, 1, 0, 0, 0, 1, 0, 0, 0, 0, 1, 1,\n",
              "       0, 0, 0, 0, 1, 1, 1, 1, 0, 0, 1, 1, 1, 1, 1, 1, 0, 1, 0, 1, 1, 0,\n",
              "       1, 1, 0, 0, 1, 0, 0, 1, 0, 0, 0, 1, 0, 0, 0, 1, 0, 1, 1, 0, 1, 0,\n",
              "       0, 0, 1, 0, 0, 1, 1, 1, 1, 0, 0, 1, 0, 0, 0, 0, 0, 1, 1, 0, 0, 1,\n",
              "       1, 0, 0, 1, 0, 1, 1, 0, 1, 0, 0, 1, 0, 1, 0, 1], dtype=uint8)"
            ]
          },
          "metadata": {},
          "execution_count": 61
        }
      ]
    },
    {
      "cell_type": "code",
      "source": [
        "# revisar la matriz de confusiñon y el reporte como resultado de la predicción\n",
        "from sklearn.metrics import classification_report\n",
        "from sklearn.metrics import confusion_matrix\n",
        "\n",
        "print(confusion_matrix(y_test, y_pred))\n",
        "print(classification_report(y_test, y_pred))"
      ],
      "metadata": {
        "colab": {
          "base_uri": "https://localhost:8080/"
        },
        "id": "-trf04vG-msQ",
        "outputId": "1cc8518e-0772-417c-e085-6ac3deee4f86"
      },
      "execution_count": 62,
      "outputs": [
        {
          "output_type": "stream",
          "name": "stdout",
          "text": [
            "[[260  38]\n",
            " [ 67 157]]\n",
            "              precision    recall  f1-score   support\n",
            "\n",
            "           0       0.80      0.87      0.83       298\n",
            "           1       0.81      0.70      0.75       224\n",
            "\n",
            "    accuracy                           0.80       522\n",
            "   macro avg       0.80      0.79      0.79       522\n",
            "weighted avg       0.80      0.80      0.80       522\n",
            "\n"
          ]
        }
      ]
    },
    {
      "cell_type": "code",
      "source": [
        "# revisar cuanto es el mejor K=10 para poder tener una mejor predicción\n",
        "from matplotlib.colors import ListedColormap\n",
        "import matplotlib.patches as mpatches\n",
        "import seaborn as sb\n",
        " \n",
        "%matplotlib inline\n",
        "plt.rcParams['figure.figsize'] = (16, 9)\n",
        "plt.style.use('ggplot')\n",
        "k_range = range(1, 30)\n",
        "scores = []\n",
        "for k in k_range:\n",
        "    knn = KNeighborsClassifier(n_neighbors = k)\n",
        "    knn.fit(X_train, y_train)\n",
        "    scores.append(knn.score(X_test, y_test))\n",
        "plt.figure()\n",
        "plt.xlabel('k')\n",
        "plt.ylabel('accuracy')\n",
        "plt.scatter(k_range, scores)\n",
        "plt.xticks([0,5,10,15,20, 25, 30])"
      ],
      "metadata": {
        "colab": {
          "base_uri": "https://localhost:8080/",
          "height": 693
        },
        "id": "ZTTKZrWW-4Xu",
        "outputId": "b3f540b9-17cb-49e6-e679-3f288f827217"
      },
      "execution_count": 63,
      "outputs": [
        {
          "output_type": "execute_result",
          "data": {
            "text/plain": [
              "([<matplotlib.axis.XTick at 0x7fb244825550>,\n",
              "  <matplotlib.axis.XTick at 0x7fb244825310>,\n",
              "  <matplotlib.axis.XTick at 0x7fb24478be50>,\n",
              "  <matplotlib.axis.XTick at 0x7fb2447463d0>,\n",
              "  <matplotlib.axis.XTick at 0x7fb244746950>,\n",
              "  <matplotlib.axis.XTick at 0x7fb244746e90>,\n",
              "  <matplotlib.axis.XTick at 0x7fb24474e450>],\n",
              " <a list of 7 Text major ticklabel objects>)"
            ]
          },
          "metadata": {},
          "execution_count": 63
        },
        {
          "output_type": "display_data",
          "data": {
            "image/png": "[encoded data removed]",
            "text/plain": [
              "<Figure size 1152x648 with 1 Axes>"
            ]
          },
          "metadata": {}
        }
      ]
    }
  ]
}